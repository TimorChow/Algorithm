{
 "cells": [
  {
   "cell_type": "markdown",
   "metadata": {},
   "source": [
    "# 斐波那契额数列"
   ]
  },
  {
   "cell_type": "markdown",
   "metadata": {},
   "source": [
    "10个台阶, 只能一步一个或两个台阶, 登上第一级台阶有一种登法；登上两级台阶，有两种登法；登上三级台阶，有三种登法；登上四级台阶，有五种方法……所以，1，2，3，5，8，13……登上十级，有89种。"
   ]
  },
  {
   "cell_type": "code",
   "execution_count": 21,
   "metadata": {},
   "outputs": [
    {
     "data": {
      "text/plain": [
       "89"
      ]
     },
     "execution_count": 21,
     "metadata": {},
     "output_type": "execute_result"
    }
   ],
   "source": [
    "n = 10\n",
    "\n",
    "res = [1, 1]\n",
    "while len(res)<=n:\n",
    "    res.append(res[-1]+res[-2])\n",
    "res[-1]"
   ]
  },
  {
   "cell_type": "markdown",
   "metadata": {},
   "source": [
    "# 空瓶换汽水\n",
    "有这样一道智力题：“某商店规定：三个空汽水瓶可以换一瓶汽水。小张手上有十个空汽水瓶，她最多可以换多少瓶汽水喝？”答案是5瓶，方法如下：先用9个空瓶子换3瓶汽水，喝掉3瓶满的，喝完以后4个空瓶子，用3个再换一瓶，喝掉这瓶满的，这时候剩2个空瓶子。然后你让老板先借给你一瓶汽水，喝掉这瓶满的，喝完以后用3个空瓶子换一瓶满的还给老板。如果小张手上有n个空汽水瓶，最多可以换多少瓶汽水喝？\n"
   ]
  },
  {
   "cell_type": "code",
   "execution_count": 45,
   "metadata": {},
   "outputs": [
    {
     "data": {
      "text/plain": [
       "47"
      ]
     },
     "execution_count": 45,
     "metadata": {},
     "output_type": "execute_result"
    }
   ],
   "source": [
    "n = 10\n",
    "count = 0\n",
    "\n",
    "def countWays(n):\n",
    "    if n == 1 or n == 0:\n",
    "        return 0\n",
    "    elif n == 2:\n",
    "        return 1\n",
    "    else:\n",
    "        get = n//3  # 可以有多少瓶\n",
    "        remain = n%3\n",
    "        extra = countWays(get+remain)\n",
    "        return get+extra\n",
    "\n",
    "countWays(94)"
   ]
  },
  {
   "cell_type": "markdown",
   "metadata": {},
   "source": [
    "# 16进制转换\n",
    "写出一个程序，接受一个十六进制的数，输出该数值的十进制表示。（多组同时输入 ）"
   ]
  },
  {
   "cell_type": "code",
   "execution_count": 60,
   "metadata": {},
   "outputs": [
    {
     "data": {
      "text/plain": [
       "2748"
      ]
     },
     "execution_count": 60,
     "metadata": {},
     "output_type": "execute_result"
    }
   ],
   "source": [
    "def main(string):\n",
    "    match = {'A': 10, 'B':11, 'C': 12, 'D':13, 'E': 14, 'F':15}\n",
    "    string = string.replace('0x', '')\n",
    "    k = 0\n",
    "    res = 0\n",
    "    for i in string[::-1]:\n",
    "        if i.isdigit():\n",
    "            res += int(i)*16**k\n",
    "        else:\n",
    "            res += match[i]*16**k\n",
    "        k+=1\n",
    "    return res\n",
    "main('0xABC')"
   ]
  },
  {
   "cell_type": "markdown",
   "metadata": {},
   "source": [
    "输入一个链表，反转链表后，输出新链表的表头。"
   ]
  },
  {
   "cell_type": "code",
   "execution_count": 3,
   "metadata": {},
   "outputs": [],
   "source": [
    "# -*- coding:utf-8 -*-\n",
    "# class ListNode:\n",
    "#     def __init__(self, x):\n",
    "#         self.val = x\n",
    "#         self.next = None\n",
    "class Solution:\n",
    "    # 返回ListNode\n",
    "    def ReverseList(self, pHead):\n",
    "        # write code here\n",
    "        head = pHead\n",
    "        new_head = None\n",
    "        while head:\n",
    "            temp = head\n",
    "            head  = head.next\n",
    "            temp.next, new_head = new_head, temp\n",
    "        return new_head"
   ]
  },
  {
   "cell_type": "markdown",
   "metadata": {},
   "source": [
    "循环单词, 通过位移得到"
   ]
  },
  {
   "cell_type": "code",
   "execution_count": 38,
   "metadata": {},
   "outputs": [
    {
     "data": {
      "text/plain": [
       "2"
      ]
     },
     "execution_count": 38,
     "metadata": {},
     "output_type": "execute_result"
    }
   ],
   "source": [
    "# word_list = ['acjkbsukhbe', 'word', 'rowd', 'picture', 'piutcre', 'picture']\n",
    "word_list = ['picture', 'turepic', 'icturep', 'word', 'ordw']\n",
    "count = {}\n",
    "for word in word_list:\n",
    "    for _ in range(len(word)):\n",
    "        word = [w for w in word]\n",
    "        c = word.pop(0)\n",
    "        word.append(c)\n",
    "        word = ''.join(word)\n",
    "        if word in count:\n",
    "            count[word]+=1\n",
    "            break\n",
    "        else:\n",
    "            if _ == len(word)-1:\n",
    "                count[word]=1\n",
    "len(count)"
   ]
  },
  {
   "cell_type": "code",
   "execution_count": 46,
   "metadata": {},
   "outputs": [
    {
     "name": "stdout",
     "output_type": "stream",
     "text": [
      "7\n"
     ]
    }
   ],
   "source": [
    "n = 8\n",
    "sticks = ['4', '23', '76', '22', '87', '3', '1', '99']\n",
    "\n",
    "sticks = [int(s) for s in sticks]\n",
    "\n",
    "count = 0\n",
    "for i in range(n-2):\n",
    "    for j in range(i+1, n-1):\n",
    "        for k in range(j+1, n):\n",
    "            if (sticks[i]+sticks[j]>sticks[k]) and (sticks[i]+sticks[k]>sticks[j]) and (sticks[j]+sticks[k]>sticks[i]):\n",
    "                count+=1\n",
    "print(count)"
   ]
  },
  {
   "cell_type": "markdown",
   "metadata": {},
   "source": [
    "小易有一个长度为n的整数序列,a_1,...,a_n。然后考虑在一个空序列b上进行n次以下操作:\n",
    "1、将a_i放入b序列的末尾\n",
    "2、逆置b序列\n",
    "小易需要你计算输出操作n次之后的b序列。\n",
    "\n",
    "示例1\n",
    "\n",
    "输入\n",
    "`\n",
    "4\n",
    "1 2 3 4\n",
    "`\n",
    "\n",
    "输出\n",
    "\n",
    "`\n",
    "4 2 1 3`"
   ]
  },
  {
   "cell_type": "code",
   "execution_count": 240,
   "metadata": {},
   "outputs": [
    {
     "name": "stdout",
     "output_type": "stream",
     "text": [
      "3\n",
      "[4, 2, 1, 3]\n"
     ]
    }
   ],
   "source": [
    "a = '1 2 3 4'\n",
    "a = [int(x) for x in a.split(' ') if x]\n",
    "b = [0]*len(a)\n",
    "first, left, right = True, 0, len(a)-1\n",
    "print(right)\n",
    "while a:\n",
    "    number = a.pop()\n",
    "    if first:\n",
    "        b[left] = number\n",
    "        left+=1\n",
    "    else:\n",
    "        b[right] = number\n",
    "        right-=1\n",
    "    first = not first\n",
    "\n",
    "print(b)"
   ]
  },
  {
   "cell_type": "markdown",
   "metadata": {},
   "source": [
    "牛牛现在有一个n个数组成的数列,牛牛现在想取一个连续的子序列,并且这个子序列还必须得满足:最多只改变一个数,就可以使得这个连续的子序列是一个严格上升的子序列,牛牛想知道这个连续子序列最长的长度是多少。\n"
   ]
  },
  {
   "cell_type": "code",
   "execution_count": 303,
   "metadata": {},
   "outputs": [],
   "source": [
    "n = '6'\n",
    "a = '7 2 3 1 5 6 1 3 8 2'\n",
    "a = '10 3 10 5 7 5'\n",
    "n = int(n)\n",
    "array = [int(c) for c in a.split(' ')]\n",
    "\n",
    "un_change = [1]*len(array)\n",
    "for i in range(1, len(array)):\n",
    "    if array[i]>array[i-1]:\n",
    "        un_change[i]=un_change[i-1]+1"
   ]
  },
  {
   "cell_type": "code",
   "execution_count": 304,
   "metadata": {},
   "outputs": [
    {
     "data": {
      "text/plain": [
       "[1, 1, 2, 1, 2, 1]"
      ]
     },
     "execution_count": 304,
     "metadata": {},
     "output_type": "execute_result"
    }
   ],
   "source": [
    "un_change"
   ]
  },
  {
   "cell_type": "code",
   "execution_count": 305,
   "metadata": {},
   "outputs": [
    {
     "name": "stdout",
     "output_type": "stream",
     "text": [
      "[1]\n",
      "[1, 3]\n",
      "[1, 3, 10]\n",
      "[11]\n",
      "[6]\n",
      "[8]\n"
     ]
    },
    {
     "data": {
      "text/plain": [
       "[1, 2, 3, 3, 2, 3]"
      ]
     },
     "execution_count": 305,
     "metadata": {},
     "output_type": "execute_result"
    }
   ],
   "source": [
    "change1 = [1]*len(array)\n",
    "\n",
    "temp = []\n",
    "for i in range(len(array)):\n",
    "    if i==0:     # 第一个位置改为1\n",
    "        temp.append(1)\n",
    "    elif array[i]>temp[-1]:  # 如果下一个大于前一个, 就记录加一, 并延长temp array\n",
    "        change1[i]=change1[i-1]+1\n",
    "        temp.append(array[i])\n",
    "    else:                    # 如果不大于, 就从change[i-1]拿出来, 加一, 并把当前temp位置改为比上一个\n",
    "        change1[i]=un_change[i-1]+1 \n",
    "        temp=[array[i-1]+1]\n",
    "    print(temp)\n",
    "change1"
   ]
  },
  {
   "cell_type": "code",
   "execution_count": 323,
   "metadata": {},
   "outputs": [
    {
     "name": "stdout",
     "output_type": "stream",
     "text": [
      "[10]\n",
      "[10, 11]\n",
      "[3, 4]\n",
      "[3, 4, 5]\n",
      "[3, 4, 5, 7]\n",
      "[7, 8]\n"
     ]
    },
    {
     "data": {
      "text/plain": [
       "[1, 2, 2, 3, 4, 2]"
      ]
     },
     "execution_count": 323,
     "metadata": {},
     "output_type": "execute_result"
    }
   ],
   "source": [
    "change2 = [1]*len(array)\n",
    "\n",
    "temp = []\n",
    "for i in range(len(array)):\n",
    "    if i == 0:\n",
    "        temp.append(array[i])\n",
    "    else:\n",
    "        if array[i]>temp[-1]:  # 如果当前数大于temp, 接上去\n",
    "            temp.append(array[i])\n",
    "        else:                  # 否则temp应当是上一个[上一个数, 上一个数+1]\n",
    "            temp=[]\n",
    "            temp.append(array[i-1])\n",
    "            temp.append(array[i-1]+1)\n",
    "    print(temp)\n",
    "    change2[i]=len(temp)\n",
    "      \n",
    "\n",
    "temp\n",
    "change2"
   ]
  },
  {
   "cell_type": "code",
   "execution_count": 326,
   "metadata": {},
   "outputs": [
    {
     "data": {
      "text/plain": [
       "[1, 2, 3, 3, 4, 3]"
      ]
     },
     "execution_count": 326,
     "metadata": {},
     "output_type": "execute_result"
    }
   ],
   "source": [
    "result = []\n",
    "for i in range(len(array)):\n",
    "    result.append(max(change1[i], change2[i]))\n",
    "result"
   ]
  },
  {
   "cell_type": "markdown",
   "metadata": {},
   "source": [
    "输出为一个整数，表示最长公共连续子串的长度。\n"
   ]
  },
  {
   "cell_type": "code",
   "execution_count": 381,
   "metadata": {},
   "outputs": [
    {
     "data": {
      "text/plain": [
       "4"
      ]
     },
     "execution_count": 381,
     "metadata": {},
     "output_type": "execute_result"
    }
   ],
   "source": [
    "str1 = 'abcde'\n",
    "str2 = 'eabcev'\n",
    "str1 = 'word'\n",
    "str2 = 'word'\n",
    "m = 0\n",
    "result = [[0 for i in range(len(str2))] for j in range(len(str1))]\n",
    "for i in range(len(str1)):\n",
    "    for j in range(len(str1)):\n",
    "        if str1[i]==str2[j]:\n",
    "            if i>0 and j>0:\n",
    "                result[i][j] = result[i-1][j-1]+1\n",
    "            else:\n",
    "                result[i][j] = 1\n",
    "            m = max(result[i][j], m)\n",
    "m"
   ]
  },
  {
   "cell_type": "markdown",
   "metadata": {},
   "source": [
    "绳子覆盖多少个点?"
   ]
  },
  {
   "cell_type": "code",
   "execution_count": 424,
   "metadata": {},
   "outputs": [
    {
     "data": {
      "text/plain": [
       "4"
      ]
     },
     "execution_count": 424,
     "metadata": {},
     "output_type": "execute_result"
    }
   ],
   "source": [
    "arr = [2,7,10,11,15,19,23,34]\n",
    "L = 8\n",
    "\n",
    "left = 0\n",
    "right = 0\n",
    "cover = 0\n",
    "for left in range(len(arr)):\n",
    "    while right<len(arr) and arr[right]-arr[left]<=L:\n",
    "        right+=1\n",
    "    cover = max(cover, right-left)\n",
    "\n",
    "cover"
   ]
  },
  {
   "cell_type": "markdown",
   "metadata": {},
   "source": [
    "地形盛水问题\n",
    "\n",
    "`从更小的一个边(短板)开始, 因为有高的一边兜着`"
   ]
  },
  {
   "cell_type": "code",
   "execution_count": 74,
   "metadata": {},
   "outputs": [
    {
     "data": {
      "text/plain": [
       "[4, 5, 1, 3, 2]"
      ]
     },
     "execution_count": 74,
     "metadata": {},
     "output_type": "execute_result"
    }
   ],
   "source": [
    "arr = \"4 5 1 3 2\"\n"
   ]
  },
  {
   "cell_type": "code",
   "execution_count": 72,
   "metadata": {},
   "outputs": [
    {
     "data": {
      "text/plain": [
       "14"
      ]
     },
     "execution_count": 72,
     "metadata": {},
     "output_type": "execute_result"
    }
   ],
   "source": [
    "arr = [5,2,2,3,7,2,1,3]\n",
    "arr = [3,1,2,1,3,2,1,4,1,1,4]\n",
    "\n",
    "total = 0\n",
    "left, right = 1, len(arr)-2\n",
    "max_l, max_r = arr[0], arr[-1]\n",
    "\n",
    "while left<=right:\n",
    "    # 从围墙上缺口更低的地方开始计算\n",
    "    if max_l>=max_r:\n",
    "        max_r = max(max_r, arr[right])\n",
    "        capacity = max_r-arr[right]\n",
    "        right-=1\n",
    "    else:\n",
    "        max_l = max(max_l, arr[left])\n",
    "        capacity = max_l-arr[left]\n",
    "        left+=1\n",
    "    total+=capacity\n",
    "total"
   ]
  },
  {
   "cell_type": "markdown",
   "metadata": {},
   "source": [
    "# 1.3 字符串交错\n",
    "对于三个字符串A，B，C。我们称C由A和B交错组成当且仅当C包含且仅包含A，B中所有字符，且对应的顺序不改变。请编写一个高效算法，判断C串是否由A和B交错组成。\n",
    "\n",
    "给定三个字符串A,B和C，及他们的长度。请返回一个bool值，代表C是否由A和B交错组成。保证三个串的长度均小于等于100。\n",
    "\n",
    "输入 \n",
    "\n",
    "`\"ABC\",3,\"12C\",3,\"A12BCC\",6`"
   ]
  },
  {
   "cell_type": "code",
   "execution_count": 71,
   "metadata": {},
   "outputs": [
    {
     "data": {
      "text/plain": [
       "[[True, False, False, False, False],\n",
       " [True, True, True, False, False],\n",
       " [True, True, True, True, False],\n",
       " [True, True, False, True, False],\n",
       " [False, True, True, True, True]]"
      ]
     },
     "execution_count": 71,
     "metadata": {},
     "output_type": "execute_result"
    }
   ],
   "source": [
    "# def chkMixture(A, n, B, m, C, v):\n",
    "A, n, B, m, C, v = \"abbc\", 4,\"bbcd\",4,\"abbbcbcd\",8\n",
    "\n",
    "dp = [[False for j in range(m+1)] for i in range(n+1)]\n",
    "dp[0][0]=True\n",
    "# 填竖列\n",
    "for i in range(1, n+1):\n",
    "    if A[i-1] != C[i-1]:\n",
    "        break\n",
    "    dp[i][0]=True\n",
    "# 填横行列\n",
    "for j in range(1, m+1):\n",
    "    if B[j-1] != C[j-1]:\n",
    "        break\n",
    "    dp[0][j]=True\n",
    "for i in range(1, n+1):\n",
    "    for j in range(1, m+1):\n",
    "        # 结尾来自A或B\n",
    "        if (A[i-1]==C[i+j-1] and dp[i-1][j]) or (B[j-1]==C[i+j-1] and dp[i][j-1]):\n",
    "            dp[i][j]=True\n",
    "dp  "
   ]
  },
  {
   "cell_type": "markdown",
   "metadata": {},
   "source": [
    "# 快排"
   ]
  },
  {
   "cell_type": "code",
   "execution_count": 2,
   "metadata": {},
   "outputs": [],
   "source": [
    "def quick_sort(array):\n",
    "    if len(array) < 2:\n",
    "        return array\n",
    "    else:\n",
    "        mid = array[0]\n",
    "        left = [x for x in array if x <= mid]\n",
    "        right = [x for x in array if x > mid]\n",
    "        return quick_sort(left) + [mid] + quick_sort(more_than_pivot)\n"
   ]
  },
  {
   "cell_type": "code",
   "execution_count": null,
   "metadata": {},
   "outputs": [],
   "source": []
  }
 ],
 "metadata": {
  "kernelspec": {
   "display_name": "Python 3",
   "language": "python",
   "name": "python3"
  },
  "language_info": {
   "codemirror_mode": {
    "name": "ipython",
    "version": 3
   },
   "file_extension": ".py",
   "mimetype": "text/x-python",
   "name": "python",
   "nbconvert_exporter": "python",
   "pygments_lexer": "ipython3",
   "version": "3.7.6"
  }
 },
 "nbformat": 4,
 "nbformat_minor": 4
}
